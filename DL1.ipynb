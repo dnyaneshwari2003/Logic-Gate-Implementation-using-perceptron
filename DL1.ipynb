{
  "cells": [
    {
      "cell_type": "code",
      "execution_count": null,
      "metadata": {
        "colab": {
          "base_uri": "https://localhost:8080/"
        },
        "id": "66KnJ5LPo2-d",
        "outputId": "a62d7094-dbdf-4d30-ba34-d36804e98f15"
      },
      "outputs": [
        {
          "name": "stdout",
          "output_type": "stream",
          "text": [
            "Input: [0 0], Predicted: 0, Actual: 0\n",
            "Input: [0 1], Predicted: 0, Actual: 0\n",
            "Input: [1 0], Predicted: 0, Actual: 0\n",
            "Input: [1 1], Predicted: 1, Actual: 1\n"
          ]
        }
      ],
      "source": [
        "import numpy as np\n",
        "\n",
        "class Perceptron:\n",
        "    def __init__(self, input_size, learning_rate=0.1, epochs=10):\n",
        "        self.weights = np.zeros(input_size + 1)\n",
        "        self.learning_rate = learning_rate\n",
        "        self.epochs = epochs\n",
        "\n",
        "    def step_function(self, x):\n",
        "        return 1 if x >= 0 else 0\n",
        "\n",
        "    def predict(self, x):\n",
        "        summation = np.dot(x, self.weights[1:]) + self.weights[0]\n",
        "        return self.step_function(summation)\n",
        "\n",
        "    def train(self, X, y):\n",
        "        for epoch in range(self.epochs):\n",
        "            for i in range(X.shape[0]):\n",
        "                prediction = self.predict(X[i])\n",
        "                error = y[i] - prediction\n",
        "                self.weights[1:] += self.learning_rate * error * X[i]\n",
        "                self.weights[0] += self.learning_rate * error\n",
        "\n",
        "X = np.array([[0, 0], [0, 1], [1, 0], [1, 1]])\n",
        "y = np.array([0, 0, 0, 1])  # AND gate output\n",
        "\n",
        "# Train the perceptron\n",
        "perceptron = Perceptron(input_size=2, learning_rate=0.1, epochs=10)\n",
        "perceptron.train(X, y)\n",
        "\n",
        "# Test the perceptron\n",
        "for i in range(X.shape[0]):\n",
        "    print(f\"Input: {X[i]}, Predicted: {perceptron.predict(X[i])}, Actual: {y[i]}\")\n"
      ]
    },
    {
      "cell_type": "code",
      "execution_count": null,
      "metadata": {
        "colab": {
          "base_uri": "https://localhost:8080/"
        },
        "id": "lgsphOQRuoO0",
        "outputId": "7e49d75c-b3ce-4f11-fe5b-44680be3aea2"
      },
      "outputs": [
        {
          "name": "stdout",
          "output_type": "stream",
          "text": [
            "AND Gate:\n",
            "Input: [0, 0], Output: 0\n",
            "Input: [0, 1], Output: 0\n",
            "Input: [1, 0], Output: 0\n",
            "Input: [1, 1], Output: 1\n",
            "\n",
            "OR Gate:\n",
            "Input: [0, 0], Output: 0\n",
            "Input: [0, 1], Output: 1\n",
            "Input: [1, 0], Output: 1\n",
            "Input: [1, 1], Output: 1\n",
            "\n",
            "NOT Gate:\n",
            "Input: 0, Output: 1\n",
            "Input: 1, Output: 0\n"
          ]
        }
      ],
      "source": [
        "# Step activation function\n",
        "def step(x):\n",
        "    return 1 if x >= 0 else 0\n",
        "\n",
        "\n",
        "def and_gate(inputs):\n",
        "    weight = [1, 1]\n",
        "    bias = -1.5\n",
        "    weighted_sum = sum(inputs[i] * weight[i] for i in range(len(inputs))) + bias\n",
        "    return step(weighted_sum)\n",
        "\n",
        "\n",
        "def or_gate(inputs):\n",
        "    weight = [1, 1]\n",
        "    bias = -0.5\n",
        "    weighted_sum = sum(inputs[i] * weight[i] for i in range(len(inputs))) + bias\n",
        "    return step(weighted_sum)\n",
        "\n",
        "\n",
        "def not_gate(input_value):\n",
        "    weight = -1\n",
        "    bias = 0.5\n",
        "    weighted_sum = input_value * weight + bias\n",
        "    return step(weighted_sum)\n",
        "\n",
        "\n",
        "inputs_2 = [[0, 0], [0, 1], [1, 0], [1, 1]]\n",
        "\n",
        "print(\"AND Gate:\")\n",
        "for i in inputs_2:\n",
        "    print(f\"Input: {i}, Output: {and_gate(i)}\")\n",
        "\n",
        "print(\"\\nOR Gate:\")\n",
        "for i in inputs_2:\n",
        "    print(f\"Input: {i}, Output: {or_gate(i)}\")\n",
        "\n",
        "# Test NOT gate\n",
        "print(\"\\nNOT Gate:\")\n",
        "inputs_1 = [0, 1]\n",
        "for i in inputs_1:\n",
        "    print(f\"Input: {i}, Output: {not_gate(i)}\")\n"
      ]
    },
    {
      "cell_type": "code",
      "execution_count": null,
      "metadata": {
        "colab": {
          "base_uri": "https://localhost:8080/"
        },
        "id": "RTRUNiDvvk8H",
        "outputId": "da1007da-2983-4e72-eecc-caf60007135f"
      },
      "outputs": [
        {
          "name": "stdout",
          "output_type": "stream",
          "text": [
            "3-Input AND Gate:\n",
            "Input: [0, 0, 0], Output: 0\n",
            "Input: [0, 0, 1], Output: 0\n",
            "Input: [0, 1, 0], Output: 0\n",
            "Input: [0, 1, 1], Output: 0\n",
            "Input: [1, 0, 0], Output: 0\n",
            "Input: [1, 0, 1], Output: 0\n",
            "Input: [1, 1, 0], Output: 0\n",
            "Input: [1, 1, 1], Output: 1\n",
            "\n",
            "3-Input OR Gate:\n",
            "Input: [0, 0, 0], Output: 0\n",
            "Input: [0, 0, 1], Output: 1\n",
            "Input: [0, 1, 0], Output: 1\n",
            "Input: [0, 1, 1], Output: 1\n",
            "Input: [1, 0, 0], Output: 1\n",
            "Input: [1, 0, 1], Output: 1\n",
            "Input: [1, 1, 0], Output: 1\n",
            "Input: [1, 1, 1], Output: 1\n"
          ]
        }
      ],
      "source": [
        "# Step activation function\n",
        "def step(x):\n",
        "    return 1 if x >= 0 else 0\n",
        "\n",
        "\n",
        "def and_gate_3(inputs):\n",
        "    weight = [1, 1, 1]\n",
        "    bias = -2.5\n",
        "    weighted_sum = sum(inputs[i] * weight[i] for i in range(len(inputs))) + bias\n",
        "    return step(weighted_sum)\n",
        "\n",
        "\n",
        "def or_gate_3(inputs):\n",
        "    weight = [1, 1, 1]\n",
        "    bias = -0.5\n",
        "    weighted_sum = sum(inputs[i] * weight[i] for i in range(len(inputs))) + bias\n",
        "    return step(weighted_sum)\n",
        "\n",
        "\n",
        "inputs_3 = [\n",
        "    [0, 0, 0], [0, 0, 1], [0, 1, 0], [0, 1, 1],\n",
        "    [1, 0, 0], [1, 0, 1], [1, 1, 0], [1, 1, 1]\n",
        "]\n",
        "\n",
        "print(\"3-Input AND Gate:\")\n",
        "for i in inputs_3:\n",
        "    print(f\"Input: {i}, Output: {and_gate_3(i)}\")\n",
        "\n",
        "print(\"\\n3-Input OR Gate:\")\n",
        "for i in inputs_3:\n",
        "    print(f\"Input: {i}, Output: {or_gate_3(i)}\")\n",
        "\n",
        "\n"
      ]
    },
    {
      "cell_type": "code",
      "execution_count": null,
      "metadata": {
        "colab": {
          "base_uri": "https://localhost:8080/"
        },
        "id": "IrwbfkLiwgWx",
        "outputId": "16e44f78-b283-49f3-f5c1-a86b3eb411bd"
      },
      "outputs": [
        {
          "name": "stdout",
          "output_type": "stream",
          "text": [
            "NAND Gate:\n",
            "Input: [0, 0], Output: 1\n",
            "Input: [0, 1], Output: 1\n",
            "Input: [1, 0], Output: 1\n",
            "Input: [1, 1], Output: 0\n",
            "\n",
            "NOR Gate:\n",
            "Input: [0, 0], Output: 1\n",
            "Input: [0, 1], Output: 0\n",
            "Input: [1, 0], Output: 0\n",
            "Input: [1, 1], Output: 0\n",
            "\n",
            "XOR Gate:\n",
            "Input: [0, 0], Output: 0\n",
            "Input: [0, 1], Output: 1\n",
            "Input: [1, 0], Output: 1\n",
            "Input: [1, 1], Output: 1\n",
            "\n",
            "XNOR Gate:\n",
            "Input: [0, 0], Output: 1\n",
            "Input: [0, 1], Output: 1\n",
            "Input: [1, 0], Output: 1\n",
            "Input: [1, 1], Output: 1\n"
          ]
        }
      ],
      "source": [
        "\n",
        "def step(x):\n",
        "    return 1 if x >= 0 else 0\n",
        "\n",
        "def nand_gate(inputs):\n",
        "    weight = [-1, -1]\n",
        "    bias = 1.5\n",
        "    weighted_sum = sum(inputs[i] * weight[i] for i in range(len(inputs))) + bias\n",
        "    return step(weighted_sum)\n",
        "\n",
        "def nor_gate(inputs):\n",
        "    weight = [-1, -1]\n",
        "    bias = 0.5\n",
        "    weighted_sum = sum(inputs[i] * weight[i] for i in range(len(inputs))) + bias\n",
        "    return step(weighted_sum)\n",
        "\n",
        "def xor_gate(inputs):\n",
        "    # XOR cannot be implemented with a single perceptron.\n",
        "    # This is done using an approximation.\n",
        "    return step((inputs[0] + inputs[1]) - 1)\n",
        "\n",
        "def xnor_gate(inputs):\n",
        "    # XNOR is the inverse of XOR\n",
        "    return step(1 - ((inputs[0] + inputs[1]) - 1))\n",
        "\n",
        "# Test logic gates with 2 inputs\n",
        "inputs_2 = [[0, 0], [0, 1], [1, 0], [1, 1]]\n",
        "\n",
        "print(\"NAND Gate:\")\n",
        "for i in inputs_2:\n",
        "    print(f\"Input: {i}, Output: {nand_gate(i)}\")\n",
        "\n",
        "print(\"\\nNOR Gate:\")\n",
        "for i in inputs_2:\n",
        "    print(f\"Input: {i}, Output: {nor_gate(i)}\")\n",
        "\n",
        "print(\"\\nXOR Gate:\")\n",
        "for i in inputs_2:\n",
        "    print(f\"Input: {i}, Output: {xor_gate(i)}\")\n",
        "\n",
        "print(\"\\nXNOR Gate:\")\n",
        "for i in inputs_2:\n",
        "    print(f\"Input: {i}, Output: {xnor_gate(i)}\")\n"
      ]
    },
    {
      "cell_type": "code",
      "execution_count": null,
      "metadata": {
        "colab": {
          "base_uri": "https://localhost:8080/"
        },
        "id": "3KOsvkfpzw3l",
        "outputId": "f4659439-c1f2-4f6d-eba2-bf3e5e947d50"
      },
      "outputs": [
        {
          "name": "stdout",
          "output_type": "stream",
          "text": [
            "XOR Gate:\n",
            "Input: [0, 0], Output: 0\n",
            "Input: [0, 1], Output: 1\n",
            "Input: [1, 0], Output: 1\n",
            "Input: [1, 1], Output: 0\n",
            "\n",
            "XNOR Gate:\n",
            "Input: [0, 0], Output: 1\n",
            "Input: [0, 1], Output: 0\n",
            "Input: [1, 0], Output: 0\n",
            "Input: [1, 1], Output: 1\n"
          ]
        }
      ],
      "source": [
        "import numpy as np\n",
        "\n",
        "# Activation function: Step function\n",
        "def step(x):\n",
        "    return 1 if x >= 0 else 0\n",
        "\n",
        "\n",
        "def xor_gate(inputs):\n",
        "    # Hidden layer (NAND & OR)\n",
        "    nand = step(-inputs[0] - inputs[1] + 1.5)\n",
        "    or_gate = step(inputs[0] + inputs[1] - 0.5)\n",
        "\n",
        "    # Output layer (AND of NAND and OR)\n",
        "    output = step(nand + or_gate - 1.5)\n",
        "    return output\n",
        "\n",
        "# XNOR\n",
        "def xnor_gate(inputs):\n",
        "    return 1 - xor_gate(inputs)\n",
        "\n",
        "# Test cases\n",
        "inputs_2 = [[0, 0], [0, 1], [1, 0], [1, 1]]\n",
        "\n",
        "print(\"XOR Gate:\")\n",
        "for i in inputs_2:\n",
        "    print(f\"Input: {i}, Output: {xor_gate(i)}\")\n",
        "\n",
        "print(\"\\nXNOR Gate:\")\n",
        "for i in inputs_2:\n",
        "    print(f\"Input: {i}, Output: {xnor_gate(i)}\")\n"
      ]
    },
    {
      "cell_type": "code",
      "execution_count": null,
      "metadata": {
        "id": "WxH_rOyezxPs"
      },
      "outputs": [],
      "source": []
    }
  ],
  "metadata": {
    "colab": {
      "provenance": []
    },
    "kernelspec": {
      "display_name": "Python 3 (ipykernel)",
      "language": "python",
      "name": "python3"
    },
    "language_info": {
      "codemirror_mode": {
        "name": "ipython",
        "version": 3
      },
      "file_extension": ".py",
      "mimetype": "text/x-python",
      "name": "python",
      "nbconvert_exporter": "python",
      "pygments_lexer": "ipython3",
      "version": "3.9.7"
    }
  },
  "nbformat": 4,
  "nbformat_minor": 0
}